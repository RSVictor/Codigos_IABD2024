{
 "cells": [
  {
   "cell_type": "code",
   "execution_count": 1,
   "metadata": {},
   "outputs": [],
   "source": [
    "# Exemplo 1 \n",
    "import numpy as np # importa a biblioteca numpy\n",
    "from sklearn.linear_model import LinearRegression # da biblioteca sklearn importa o modelo de regressao linear"
   ]
  },
  {
   "cell_type": "code",
   "execution_count": null,
   "metadata": {},
   "outputs": [],
   "source": [
    "#pip install scikit-learn instala a biblioteca scikit (caso nao rode a importação acima)"
   ]
  },
  {
   "cell_type": "code",
   "execution_count": 2,
   "metadata": {},
   "outputs": [
    {
     "data": {
      "text/plain": [
       "LinearRegression()"
      ]
     },
     "execution_count": 2,
     "metadata": {},
     "output_type": "execute_result"
    }
   ],
   "source": [
    "#Dados de treinamento \n",
    "vazao = np.array([10,20,30,5,35,40]).reshape(-1,1)\n",
    "#vazao de água em m3/min\n",
    "nivel = np.array([50,60,70,45,80,85])#nivel do tanque em metros\n",
    "#Criar e treinar o modelo de regressão linear\n",
    "modelo = LinearRegression() #Cria uma variavel chamada modelo\n",
    "modelo.fit(vazao,nivel) #Cria o modelo com base nos dados de entrada"
   ]
  }
 ],
 "metadata": {
  "kernelspec": {
   "display_name": "base",
   "language": "python",
   "name": "python3"
  },
  "language_info": {
   "codemirror_mode": {
    "name": "ipython",
    "version": 3
   },
   "file_extension": ".py",
   "mimetype": "text/x-python",
   "name": "python",
   "nbconvert_exporter": "python",
   "pygments_lexer": "ipython3",
   "version": "3.9.13"
  }
 },
 "nbformat": 4,
 "nbformat_minor": 2
}
